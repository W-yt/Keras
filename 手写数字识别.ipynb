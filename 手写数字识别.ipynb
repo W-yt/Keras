{
 "cells": [
  {
   "cell_type": "code",
   "execution_count": 1,
   "id": "electrical-playing",
   "metadata": {},
   "outputs": [],
   "source": [
    "import keras\n",
    "from keras import layers\n",
    "import matplotlib.pyplot as plt\n",
    "%matplotlib inline"
   ]
  },
  {
   "cell_type": "code",
   "execution_count": 2,
   "id": "informative-artist",
   "metadata": {},
   "outputs": [],
   "source": [
    "import keras.datasets.mnist as mnist"
   ]
  },
  {
   "cell_type": "code",
   "execution_count": 3,
   "id": "derived-beverage",
   "metadata": {},
   "outputs": [],
   "source": [
    "(train_image,train_label),(test_image,test_label) = mnist.load_data()"
   ]
  },
  {
   "cell_type": "code",
   "execution_count": 5,
   "id": "strange-youth",
   "metadata": {},
   "outputs": [
    {
     "data": {
      "text/plain": [
       "(60000, 28, 28)"
      ]
     },
     "execution_count": 5,
     "metadata": {},
     "output_type": "execute_result"
    }
   ],
   "source": [
    "train_image.shape"
   ]
  },
  {
   "cell_type": "code",
   "execution_count": 10,
   "id": "efficient-disclaimer",
   "metadata": {
    "scrolled": true
   },
   "outputs": [
    {
     "data": {
      "text/plain": [
       "9"
      ]
     },
     "execution_count": 10,
     "metadata": {},
     "output_type": "execute_result"
    },
    {
     "data": {
      "image/png": "[encoded data removed]",
      "text/plain": [
       "<Figure size 432x288 with 1 Axes>"
      ]
     },
     "metadata": {
      "needs_background": "light"
     },
     "output_type": "display_data"
    }
   ],
   "source": [
    "plt.imshow(train_image[4])\n",
    "train_label[4]"
   ]
  },
  {
   "cell_type": "code",
   "execution_count": 12,
   "id": "historic-priest",
   "metadata": {},
   "outputs": [],
   "source": [
    "model = keras.Sequential()\n",
    "model.add(layers.Flatten()) #第一层：展平(60000,28,28)->(60000,28*28)\n",
    "model.add(layers.Dense(64,activation = \"relu\"))\n",
    "model.add(layers.Dense(10,activation = \"softmax\"))"
   ]
  },
  {
   "cell_type": "code",
   "execution_count": 13,
   "id": "brown-congo",
   "metadata": {},
   "outputs": [],
   "source": [
    "model.compile(optimizer = \"adam\",\n",
    "              loss = \"sparse_categorical_crossentropy\",\n",
    "              metrics = [\"acc\"])"
   ]
  },
  {
   "cell_type": "code",
   "execution_count": 14,
   "id": "logical-applicant",
   "metadata": {},
   "outputs": [
    {
     "name": "stdout",
     "output_type": "stream",
     "text": [
      "Epoch 1/50\n",
      "118/118 [==============================] - 1s 4ms/step - loss: 32.6527 - acc: 0.5812\n",
      "Epoch 2/50\n",
      "118/118 [==============================] - 0s 4ms/step - loss: 2.1115 - acc: 0.8225\n",
      "Epoch 3/50\n",
      "118/118 [==============================] - 0s 4ms/step - loss: 0.9968 - acc: 0.7973\n",
      "Epoch 4/50\n",
      "118/118 [==============================] - 0s 4ms/step - loss: 0.7078 - acc: 0.8319\n",
      "Epoch 5/50\n",
      "118/118 [==============================] - 0s 4ms/step - loss: 0.5937 - acc: 0.8512\n",
      "Epoch 6/50\n",
      "118/118 [==============================] - 0s 4ms/step - loss: 0.5032 - acc: 0.8735\n",
      "Epoch 7/50\n",
      "118/118 [==============================] - 0s 4ms/step - loss: 0.4326 - acc: 0.8870\n",
      "Epoch 8/50\n",
      "118/118 [==============================] - 0s 4ms/step - loss: 0.3776 - acc: 0.9024\n",
      "Epoch 9/50\n",
      "118/118 [==============================] - 0s 4ms/step - loss: 0.3387 - acc: 0.9083\n",
      "Epoch 10/50\n",
      "118/118 [==============================] - 1s 4ms/step - loss: 0.3097 - acc: 0.9149\n",
      "Epoch 11/50\n",
      "118/118 [==============================] - 1s 5ms/step - loss: 0.2759 - acc: 0.9223\n",
      "Epoch 12/50\n",
      "118/118 [==============================] - 0s 4ms/step - loss: 0.2522 - acc: 0.9275\n",
      "Epoch 13/50\n",
      "118/118 [==============================] - 1s 5ms/step - loss: 0.2341 - acc: 0.9302\n",
      "Epoch 14/50\n",
      "118/118 [==============================] - 0s 4ms/step - loss: 0.2146 - acc: 0.9387\n",
      "Epoch 15/50\n",
      "118/118 [==============================] - 0s 4ms/step - loss: 0.2060 - acc: 0.9387\n",
      "Epoch 16/50\n",
      "118/118 [==============================] - 0s 4ms/step - loss: 0.1883 - acc: 0.9446\n",
      "Epoch 17/50\n",
      "118/118 [==============================] - 0s 4ms/step - loss: 0.1820 - acc: 0.9440\n",
      "Epoch 18/50\n",
      "118/118 [==============================] - 0s 4ms/step - loss: 0.1743 - acc: 0.9475\n",
      "Epoch 19/50\n",
      "118/118 [==============================] - 0s 4ms/step - loss: 0.1655 - acc: 0.9508\n",
      "Epoch 20/50\n",
      "118/118 [==============================] - 0s 4ms/step - loss: 0.1611 - acc: 0.9514\n",
      "Epoch 21/50\n",
      "118/118 [==============================] - 0s 4ms/step - loss: 0.1517 - acc: 0.9532\n",
      "Epoch 22/50\n",
      "118/118 [==============================] - 1s 5ms/step - loss: 0.1408 - acc: 0.9563\n",
      "Epoch 23/50\n",
      "118/118 [==============================] - 0s 4ms/step - loss: 0.1392 - acc: 0.9563\n",
      "Epoch 24/50\n",
      "118/118 [==============================] - 0s 4ms/step - loss: 0.1368 - acc: 0.9582\n",
      "Epoch 25/50\n",
      "118/118 [==============================] - 1s 5ms/step - loss: 0.1228 - acc: 0.9618\n",
      "Epoch 26/50\n",
      "118/118 [==============================] - 1s 5ms/step - loss: 0.1228 - acc: 0.9621\n",
      "Epoch 27/50\n",
      "118/118 [==============================] - 1s 5ms/step - loss: 0.1243 - acc: 0.9621\n",
      "Epoch 28/50\n",
      "118/118 [==============================] - 1s 5ms/step - loss: 0.1195 - acc: 0.9618\n",
      "Epoch 29/50\n",
      "118/118 [==============================] - 0s 4ms/step - loss: 0.1159 - acc: 0.9642\n",
      "Epoch 30/50\n",
      "118/118 [==============================] - 0s 4ms/step - loss: 0.1098 - acc: 0.9656\n",
      "Epoch 31/50\n",
      "118/118 [==============================] - 0s 4ms/step - loss: 0.1058 - acc: 0.9674\n",
      "Epoch 32/50\n",
      "118/118 [==============================] - 0s 4ms/step - loss: 0.1020 - acc: 0.9678\n",
      "Epoch 33/50\n",
      "118/118 [==============================] - 0s 4ms/step - loss: 0.0991 - acc: 0.9685\n",
      "Epoch 34/50\n",
      "118/118 [==============================] - 0s 4ms/step - loss: 0.1046 - acc: 0.9667\n",
      "Epoch 35/50\n",
      "118/118 [==============================] - 0s 4ms/step - loss: 0.0927 - acc: 0.9699\n",
      "Epoch 36/50\n",
      "118/118 [==============================] - 0s 4ms/step - loss: 0.0963 - acc: 0.9688\n",
      "Epoch 37/50\n",
      "118/118 [==============================] - 1s 4ms/step - loss: 0.0944 - acc: 0.9708\n",
      "Epoch 38/50\n",
      "118/118 [==============================] - 0s 4ms/step - loss: 0.0849 - acc: 0.9736\n",
      "Epoch 39/50\n",
      "118/118 [==============================] - 0s 4ms/step - loss: 0.0916 - acc: 0.9704\n",
      "Epoch 40/50\n",
      "118/118 [==============================] - 0s 4ms/step - loss: 0.0814 - acc: 0.9748\n",
      "Epoch 41/50\n",
      "118/118 [==============================] - 1s 5ms/step - loss: 0.0834 - acc: 0.9730\n",
      "Epoch 42/50\n",
      "118/118 [==============================] - 1s 5ms/step - loss: 0.0869 - acc: 0.9731\n",
      "Epoch 43/50\n",
      "118/118 [==============================] - 0s 4ms/step - loss: 0.0852 - acc: 0.9731\n",
      "Epoch 44/50\n",
      "118/118 [==============================] - 0s 4ms/step - loss: 0.0822 - acc: 0.9741\n",
      "Epoch 45/50\n",
      "118/118 [==============================] - 0s 4ms/step - loss: 0.0731 - acc: 0.9764\n",
      "Epoch 46/50\n",
      "118/118 [==============================] - 0s 4ms/step - loss: 0.0783 - acc: 0.9758\n",
      "Epoch 47/50\n",
      "118/118 [==============================] - 0s 4ms/step - loss: 0.0803 - acc: 0.9746\n",
      "Epoch 48/50\n",
      "118/118 [==============================] - 0s 4ms/step - loss: 0.0795 - acc: 0.9756\n",
      "Epoch 49/50\n",
      "118/118 [==============================] - 0s 4ms/step - loss: 0.0686 - acc: 0.9780\n",
      "Epoch 50/50\n",
      "118/118 [==============================] - 1s 4ms/step - loss: 0.0735 - acc: 0.9774\n"
     ]
    },
    {
     "data": {
      "text/plain": [
       "<tensorflow.python.keras.callbacks.History at 0x7f57e42ea520>"
      ]
     },
     "execution_count": 14,
     "metadata": {},
     "output_type": "execute_result"
    }
   ],
   "source": [
    "model.fit(train_image,train_label,epochs = 50,batch_size = 512)"
   ]
  },
  {
   "cell_type": "code",
   "execution_count": 15,
   "id": "mighty-digit",
   "metadata": {},
   "outputs": [
    {
     "name": "stdout",
     "output_type": "stream",
     "text": [
      "313/313 [==============================] - 0s 986us/step - loss: 0.3298 - acc: 0.9500\n"
     ]
    },
    {
     "data": {
      "text/plain": [
       "[0.3297569155693054, 0.949999988079071]"
      ]
     },
     "execution_count": 15,
     "metadata": {},
     "output_type": "execute_result"
    }
   ],
   "source": [
    "model.evaluate(test_image,test_label)"
   ]
  },
  {
   "cell_type": "code",
   "execution_count": 16,
   "id": "moving-declaration",
   "metadata": {},
   "outputs": [
    {
     "name": "stdout",
     "output_type": "stream",
     "text": [
      "1875/1875 [==============================] - 3s 1ms/step - loss: 0.0644 - acc: 0.9793\n"
     ]
    },
    {
     "data": {
      "text/plain": [
       "[0.06440192461013794, 0.9792666435241699]"
      ]
     },
     "execution_count": 16,
     "metadata": {},
     "output_type": "execute_result"
    }
   ],
   "source": [
    "model.evaluate(train_image,train_label)"
   ]
  },
  {
   "cell_type": "code",
   "execution_count": 17,
   "id": "broad-stranger",
   "metadata": {},
   "outputs": [],
   "source": [
    "import numpy as np"
   ]
  },
  {
   "cell_type": "code",
   "execution_count": 19,
   "id": "sacred-edwards",
   "metadata": {},
   "outputs": [
    {
     "data": {
      "text/plain": [
       "array([7, 2, 1, 0, 4, 1, 4, 4, 5, 9])"
      ]
     },
     "execution_count": 19,
     "metadata": {},
     "output_type": "execute_result"
    }
   ],
   "source": [
    "np.argmax(model.predict(test_image[:10]),axis = 1)"
   ]
  },
  {
   "cell_type": "code",
   "execution_count": 20,
   "id": "divided-sponsorship",
   "metadata": {},
   "outputs": [
    {
     "data": {
      "text/plain": [
       "array([7, 2, 1, 0, 4, 1, 4, 9, 5, 9], dtype=uint8)"
      ]
     },
     "execution_count": 20,
     "metadata": {},
     "output_type": "execute_result"
    }
   ],
   "source": [
    "test_label[:10]"
   ]
  },
  {
   "cell_type": "code",
   "execution_count": 21,
   "id": "fossil-ghost",
   "metadata": {},
   "outputs": [
    {
     "name": "stdout",
     "output_type": "stream",
     "text": [
      "Epoch 1/50\n",
      "118/118 [==============================] - 1s 8ms/step - loss: 9.2159 - acc: 0.5668 - val_loss: 0.8996 - val_acc: 0.8404\n",
      "Epoch 2/50\n",
      "118/118 [==============================] - 1s 5ms/step - loss: 0.7413 - acc: 0.8545 - val_loss: 0.5547 - val_acc: 0.8784\n",
      "Epoch 3/50\n",
      "118/118 [==============================] - 1s 6ms/step - loss: 0.4456 - acc: 0.8936 - val_loss: 0.4292 - val_acc: 0.9022\n",
      "Epoch 4/50\n",
      "118/118 [==============================] - 1s 5ms/step - loss: 0.3223 - acc: 0.9168 - val_loss: 0.3773 - val_acc: 0.9110\n",
      "Epoch 5/50\n",
      "118/118 [==============================] - 1s 5ms/step - loss: 0.2540 - acc: 0.9302 - val_loss: 0.3279 - val_acc: 0.9233\n",
      "Epoch 6/50\n",
      "118/118 [==============================] - 1s 5ms/step - loss: 0.2028 - acc: 0.9420 - val_loss: 0.3049 - val_acc: 0.9267\n",
      "Epoch 7/50\n",
      "118/118 [==============================] - 1s 5ms/step - loss: 0.1733 - acc: 0.9502 - val_loss: 0.2877 - val_acc: 0.9298\n",
      "Epoch 8/50\n",
      "118/118 [==============================] - 1s 5ms/step - loss: 0.1454 - acc: 0.9581 - val_loss: 0.2820 - val_acc: 0.9308\n",
      "Epoch 9/50\n",
      "118/118 [==============================] - 1s 5ms/step - loss: 0.1268 - acc: 0.9617 - val_loss: 0.2589 - val_acc: 0.9364\n",
      "Epoch 10/50\n",
      "118/118 [==============================] - 1s 5ms/step - loss: 0.1123 - acc: 0.9659 - val_loss: 0.2418 - val_acc: 0.9390\n",
      "Epoch 11/50\n",
      "118/118 [==============================] - 1s 5ms/step - loss: 0.1047 - acc: 0.9677 - val_loss: 0.2412 - val_acc: 0.9387\n",
      "Epoch 12/50\n",
      "118/118 [==============================] - 1s 6ms/step - loss: 0.0930 - acc: 0.9710 - val_loss: 0.2337 - val_acc: 0.9435\n",
      "Epoch 13/50\n",
      "118/118 [==============================] - 1s 5ms/step - loss: 0.0844 - acc: 0.9739 - val_loss: 0.2346 - val_acc: 0.9446\n",
      "Epoch 14/50\n",
      "118/118 [==============================] - 1s 8ms/step - loss: 0.0772 - acc: 0.9763 - val_loss: 0.2290 - val_acc: 0.9450\n",
      "Epoch 15/50\n",
      "118/118 [==============================] - 1s 7ms/step - loss: 0.0666 - acc: 0.9790 - val_loss: 0.2246 - val_acc: 0.9462\n",
      "Epoch 16/50\n",
      "118/118 [==============================] - 1s 6ms/step - loss: 0.0662 - acc: 0.9784 - val_loss: 0.2311 - val_acc: 0.9466\n",
      "Epoch 17/50\n",
      "118/118 [==============================] - 1s 6ms/step - loss: 0.0566 - acc: 0.9817 - val_loss: 0.2253 - val_acc: 0.9481\n",
      "Epoch 18/50\n",
      "118/118 [==============================] - 1s 7ms/step - loss: 0.0607 - acc: 0.9804 - val_loss: 0.2307 - val_acc: 0.9499\n",
      "Epoch 19/50\n",
      "118/118 [==============================] - 1s 6ms/step - loss: 0.0491 - acc: 0.9839 - val_loss: 0.2314 - val_acc: 0.9497\n",
      "Epoch 20/50\n",
      "118/118 [==============================] - 1s 6ms/step - loss: 0.0456 - acc: 0.9853 - val_loss: 0.2253 - val_acc: 0.9501\n",
      "Epoch 21/50\n",
      "118/118 [==============================] - 1s 6ms/step - loss: 0.0462 - acc: 0.9849 - val_loss: 0.2373 - val_acc: 0.9489\n",
      "Epoch 22/50\n",
      "118/118 [==============================] - 1s 7ms/step - loss: 0.0437 - acc: 0.9853 - val_loss: 0.2317 - val_acc: 0.9515\n",
      "Epoch 23/50\n",
      "118/118 [==============================] - 1s 6ms/step - loss: 0.0536 - acc: 0.9824 - val_loss: 0.2305 - val_acc: 0.9513\n",
      "Epoch 24/50\n",
      "118/118 [==============================] - 1s 6ms/step - loss: 0.0415 - acc: 0.9864 - val_loss: 0.2325 - val_acc: 0.9545\n",
      "Epoch 25/50\n",
      "118/118 [==============================] - 1s 6ms/step - loss: 0.0495 - acc: 0.9837 - val_loss: 0.2283 - val_acc: 0.9535\n",
      "Epoch 26/50\n",
      "118/118 [==============================] - 1s 5ms/step - loss: 0.0420 - acc: 0.9853 - val_loss: 0.2420 - val_acc: 0.9518\n",
      "Epoch 27/50\n",
      "118/118 [==============================] - 1s 7ms/step - loss: 0.0491 - acc: 0.9840 - val_loss: 0.2268 - val_acc: 0.9563\n",
      "Epoch 28/50\n",
      "118/118 [==============================] - 1s 7ms/step - loss: 0.0300 - acc: 0.9895 - val_loss: 0.2513 - val_acc: 0.9541\n",
      "Epoch 29/50\n",
      "118/118 [==============================] - 1s 6ms/step - loss: 0.0291 - acc: 0.9902 - val_loss: 0.2477 - val_acc: 0.9559\n",
      "Epoch 30/50\n",
      "118/118 [==============================] - 1s 6ms/step - loss: 0.0362 - acc: 0.9879 - val_loss: 0.2580 - val_acc: 0.9539\n",
      "Epoch 31/50\n",
      "118/118 [==============================] - 1s 7ms/step - loss: 0.0440 - acc: 0.9862 - val_loss: 0.2806 - val_acc: 0.9524\n",
      "Epoch 32/50\n",
      "118/118 [==============================] - 1s 6ms/step - loss: 0.0332 - acc: 0.9881 - val_loss: 0.2460 - val_acc: 0.9565\n",
      "Epoch 33/50\n",
      "118/118 [==============================] - 1s 6ms/step - loss: 0.0362 - acc: 0.9882 - val_loss: 0.2746 - val_acc: 0.9537\n",
      "Epoch 34/50\n",
      "118/118 [==============================] - 1s 6ms/step - loss: 0.0373 - acc: 0.9878 - val_loss: 0.2732 - val_acc: 0.9538\n",
      "Epoch 35/50\n",
      "118/118 [==============================] - 1s 6ms/step - loss: 0.0463 - acc: 0.9859 - val_loss: 0.2580 - val_acc: 0.9579\n",
      "Epoch 36/50\n",
      "118/118 [==============================] - 1s 7ms/step - loss: 0.0326 - acc: 0.9892 - val_loss: 0.2631 - val_acc: 0.9584\n",
      "Epoch 37/50\n",
      "118/118 [==============================] - 1s 6ms/step - loss: 0.0340 - acc: 0.9897 - val_loss: 0.2859 - val_acc: 0.9570\n",
      "Epoch 38/50\n",
      "118/118 [==============================] - 1s 6ms/step - loss: 0.0319 - acc: 0.9900 - val_loss: 0.3122 - val_acc: 0.9551\n",
      "Epoch 39/50\n",
      "118/118 [==============================] - 1s 6ms/step - loss: 0.0638 - acc: 0.9825 - val_loss: 0.2969 - val_acc: 0.9563\n",
      "Epoch 40/50\n",
      "118/118 [==============================] - 1s 6ms/step - loss: 0.0380 - acc: 0.9884 - val_loss: 0.2638 - val_acc: 0.9599\n",
      "Epoch 41/50\n",
      "118/118 [==============================] - 1s 6ms/step - loss: 0.0233 - acc: 0.9922 - val_loss: 0.2741 - val_acc: 0.9610\n",
      "Epoch 42/50\n",
      "118/118 [==============================] - 1s 6ms/step - loss: 0.0290 - acc: 0.9905 - val_loss: 0.3035 - val_acc: 0.9559\n",
      "Epoch 43/50\n",
      "118/118 [==============================] - 1s 6ms/step - loss: 0.0365 - acc: 0.9890 - val_loss: 0.3025 - val_acc: 0.9572\n",
      "Epoch 44/50\n",
      "118/118 [==============================] - 1s 6ms/step - loss: 0.0395 - acc: 0.9886 - val_loss: 0.2927 - val_acc: 0.9585\n",
      "Epoch 45/50\n",
      "118/118 [==============================] - 1s 6ms/step - loss: 0.0236 - acc: 0.9922 - val_loss: 0.2809 - val_acc: 0.9606\n",
      "Epoch 46/50\n",
      "118/118 [==============================] - 1s 6ms/step - loss: 0.0233 - acc: 0.9927 - val_loss: 0.2851 - val_acc: 0.9596\n",
      "Epoch 47/50\n",
      "118/118 [==============================] - 1s 6ms/step - loss: 0.0340 - acc: 0.9897 - val_loss: 0.3168 - val_acc: 0.9588\n",
      "Epoch 48/50\n",
      "118/118 [==============================] - 1s 6ms/step - loss: 0.0498 - acc: 0.9863 - val_loss: 0.3074 - val_acc: 0.9567\n",
      "Epoch 49/50\n",
      "118/118 [==============================] - 1s 6ms/step - loss: 0.0410 - acc: 0.9888 - val_loss: 0.2851 - val_acc: 0.9631\n",
      "Epoch 50/50\n",
      "118/118 [==============================] - 1s 7ms/step - loss: 0.0282 - acc: 0.9913 - val_loss: 0.3189 - val_acc: 0.9558\n"
     ]
    },
    {
     "data": {
      "text/plain": [
       "<tensorflow.python.keras.callbacks.History at 0x7f57cc146a90>"
      ]
     },
     "execution_count": 21,
     "metadata": {},
     "output_type": "execute_result"
    }
   ],
   "source": [
    "#模型的优化\n",
    "model = keras.Sequential()\n",
    "model.add(layers.Flatten()) #第一层：展平(60000,28,28)->(60000,28*28)\n",
    "model.add(layers.Dense(64,activation = \"relu\"))\n",
    "model.add(layers.Dense(64,activation = \"relu\"))\n",
    "model.add(layers.Dense(64,activation = \"relu\"))\n",
    "model.add(layers.Dense(10,activation = \"softmax\"))\n",
    "model.compile(optimizer = \"adam\",\n",
    "              loss = \"sparse_categorical_crossentropy\",\n",
    "              metrics = [\"acc\"])\n",
    "model.fit(train_image,train_label,epochs = 50,batch_size = 512,validation_data = (test_image,test_label))"
   ]
  },
  {
   "cell_type": "code",
   "execution_count": 22,
   "id": "excited-mortality",
   "metadata": {},
   "outputs": [
    {
     "name": "stdout",
     "output_type": "stream",
     "text": [
      "313/313 [==============================] - 0s 1ms/step - loss: 0.3189 - acc: 0.9558\n"
     ]
    },
    {
     "data": {
      "text/plain": [
       "[0.3189455270767212, 0.9557999968528748]"
      ]
     },
     "execution_count": 22,
     "metadata": {},
     "output_type": "execute_result"
    }
   ],
   "source": [
    "model.evaluate(test_image,test_label)"
   ]
  },
  {
   "cell_type": "code",
   "execution_count": 23,
   "id": "solved-brass",
   "metadata": {},
   "outputs": [
    {
     "data": {
      "text/plain": [
       "array([7, 2, 1, 0, 4, 1, 4, 9, 5, 9])"
      ]
     },
     "execution_count": 23,
     "metadata": {},
     "output_type": "execute_result"
    }
   ],
   "source": [
    "np.argmax(model.predict(test_image[:10]),axis = 1)"
   ]
  },
  {
   "cell_type": "code",
   "execution_count": 24,
   "id": "impossible-knowing",
   "metadata": {},
   "outputs": [
    {
     "data": {
      "text/plain": [
       "array([7, 2, 1, 0, 4, 1, 4, 9, 5, 9], dtype=uint8)"
      ]
     },
     "execution_count": 24,
     "metadata": {},
     "output_type": "execute_result"
    }
   ],
   "source": [
    "test_label[:10]"
   ]
  },
  {
   "cell_type": "code",
   "execution_count": 25,
   "id": "capable-sperm",
   "metadata": {},
   "outputs": [
    {
     "name": "stdout",
     "output_type": "stream",
     "text": [
      "1875/1875 [==============================] - 3s 1ms/step - loss: 0.0232 - acc: 0.9925\n"
     ]
    },
    {
     "data": {
      "text/plain": [
       "[0.023173097521066666, 0.9924666881561279]"
      ]
     },
     "execution_count": 25,
     "metadata": {},
     "output_type": "execute_result"
    }
   ],
   "source": [
    "model.evaluate(train_image,train_label)"
   ]
  },
  {
   "cell_type": "code",
   "execution_count": null,
   "id": "eleven-fashion",
   "metadata": {},
   "outputs": [],
   "source": []
  }
 ],
 "metadata": {
  "kernelspec": {
   "display_name": "Python 3",
   "language": "python",
   "name": "python3"
  },
  "language_info": {
   "codemirror_mode": {
    "name": "ipython",
    "version": 3
   },
   "file_extension": ".py",
   "mimetype": "text/x-python",
   "name": "python",
   "nbconvert_exporter": "python",
   "pygments_lexer": "ipython3",
   "version": "3.8.1"
  }
 },
 "nbformat": 4,
 "nbformat_minor": 5
}
