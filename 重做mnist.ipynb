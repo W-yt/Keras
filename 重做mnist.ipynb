{
 "cells": [
  {
   "cell_type": "code",
   "execution_count": 1,
   "id": "continental-saskatchewan",
   "metadata": {},
   "outputs": [],
   "source": [
    "import numpy as np\n",
    "from keras.datasets import mnist\n",
    "from keras.models import Sequential,Model\n",
    "from keras.layers.core import Dense,Activation,Dropout\n",
    "from keras.utils import np_utils\n",
    "\n",
    "import matplotlib.pyplot as plt\n",
    "import matplotlib.image as processimage"
   ]
  },
  {
   "cell_type": "code",
   "execution_count": 7,
   "id": "quiet-latex",
   "metadata": {},
   "outputs": [
    {
     "name": "stdout",
     "output_type": "stream",
     "text": [
      "(60000, 28, 28) (60000,)\n",
      "(10000, 28, 28) (10000,)\n"
     ]
    }
   ],
   "source": [
    "(x_train,y_train),(x_test,y_test) = mnist.load_data()\n",
    "print(x_train.shape,y_train.shape)\n",
    "print(x_test.shape,y_test.shape)"
   ]
  },
  {
   "cell_type": "code",
   "execution_count": 11,
   "id": "elementary-gender",
   "metadata": {},
   "outputs": [],
   "source": [
    "#准备数据\n",
    "#reshape\n",
    "x_train = x_train.reshape(60000,28*28)\n",
    "x_test = x_test.reshape(10000,28*28)\n",
    "#to float\n",
    "x_train = x_train.astype(\"float32\")\n",
    "x_test = x_test.astype(\"float32\")\n",
    "#归一化\n",
    "x_train = x_train/255.0"
   ]
  },
  {
   "cell_type": "code",
   "execution_count": 12,
   "id": "ordered-better",
   "metadata": {},
   "outputs": [],
   "source": [
    "#prepare basic setups\n",
    "batch_size = 1024 #一次训练给神经网络注入多少数据\n",
    "nb_class = 10 #多少个类别\n",
    "nb_epochs = 4 #训练次数"
   ]
  },
  {
   "cell_type": "code",
   "execution_count": 13,
   "id": "persistent-coalition",
   "metadata": {},
   "outputs": [
    {
     "name": "stdout",
     "output_type": "stream",
     "text": [
      "(10000, 10)\n"
     ]
    }
   ],
   "source": [
    "#class vectors [0,0,0,0,0,0,0,1,0,0](7)\n",
    "y_test = np_utils.to_categorical(y_test,nb_class) #label\n",
    "y_train = np_utils.to_categorical(y_train,nb_class)\n",
    "print(y_test.shape)"
   ]
  },
  {
   "cell_type": "code",
   "execution_count": 17,
   "id": "detected-transparency",
   "metadata": {},
   "outputs": [],
   "source": [
    "#设置网络结构\n",
    "model = Sequential()\n",
    "#1st layer\n",
    "model.add(Dense(512, #这里写的参数是输出的\n",
    "                input_shape = (28*28,))) #这里才是输入的(需要加逗号 实际上是（28*28,1）)，也可以写成input_dim = 28*28(这个不用加逗号)\n",
    "model.add(Activation(\"relu\"))\n",
    "model.add(Dropout(0.2)) #从现有网络中拿掉一部分数据 解决过拟合(overfit)问题 防止步伐过大\n",
    "\n",
    "#2nd layer\n",
    "model.add(Dense(256))\n",
    "model.add(Activation(\"relu\"))\n",
    "model.add(Dropout(0.2)) #从现有网络中拿掉一部分数据 解决过拟合(overfit)问题 防止步伐过大\n",
    "\n",
    "#3rd layer\n",
    "model.add(Dense(10)) #最终分类\n",
    "model.add(Activation(\"softmax\"))"
   ]
  },
  {
   "cell_type": "code",
   "execution_count": 22,
   "id": "young-lounge",
   "metadata": {},
   "outputs": [],
   "source": [
    "model.compile(loss = \"categorical_crossentropy\",\n",
    "             optimizer = \"rmsprop\",#adam,SGD\n",
    "             metrics = [\"accuracy\"])"
   ]
  },
  {
   "cell_type": "code",
   "execution_count": 23,
   "id": "incredible-daniel",
   "metadata": {},
   "outputs": [
    {
     "name": "stdout",
     "output_type": "stream",
     "text": [
      "Epoch 1/4\n",
      "59/59 [==============================] - 3s 42ms/step - loss: 0.1226 - accuracy: 0.9628 - val_loss: 15.8006 - val_accuracy: 0.9689\n",
      "Epoch 2/4\n",
      "59/59 [==============================] - 2s 40ms/step - loss: 0.0733 - accuracy: 0.9772 - val_loss: 11.7247 - val_accuracy: 0.9760\n",
      "Epoch 3/4\n",
      "59/59 [==============================] - 2s 40ms/step - loss: 0.0563 - accuracy: 0.9833 - val_loss: 11.3968 - val_accuracy: 0.9789\n",
      "Epoch 4/4\n",
      "59/59 [==============================] - 2s 40ms/step - loss: 0.0493 - accuracy: 0.9842 - val_loss: 12.1315 - val_accuracy: 0.9785\n"
     ]
    }
   ],
   "source": [
    "#启动网络训练\n",
    "Training = model.fit(x_train,y_train,batch_size = batch_size,epochs = nb_epochs,validation_data = (x_test,y_test))"
   ]
  },
  {
   "cell_type": "code",
   "execution_count": 26,
   "id": "closed-illness",
   "metadata": {},
   "outputs": [
    {
     "data": {
      "text/plain": [
       "{'verbose': 1, 'epochs': 4, 'steps': 59}"
      ]
     },
     "execution_count": 26,
     "metadata": {},
     "output_type": "execute_result"
    }
   ],
   "source": [
    "Training.params"
   ]
  },
  {
   "cell_type": "code",
   "execution_count": 34,
   "id": "considered-andrews",
   "metadata": {},
   "outputs": [
    {
     "name": "stdout",
     "output_type": "stream",
     "text": [
      "label: [0. 0. 0. 0. 0. 0. 1. 0. 0. 0.]\n"
     ]
    },
    {
     "data": {
      "text/plain": [
       "<matplotlib.image.AxesImage at 0x7fbbe7276880>"
      ]
     },
     "execution_count": 34,
     "metadata": {},
     "output_type": "execute_result"
    },
    {
     "data": {
      "image/png": "[encoded data removed]",
      "text/plain": [
       "<Figure size 432x288 with 1 Axes>"
      ]
     },
     "metadata": {
      "needs_background": "light"
     },
     "output_type": "display_data"
    }
   ],
   "source": [
    "#拉取test里的图\n",
    "testrun = x_test[9999].reshape(1,784)\n",
    "testlabel = y_test[9999]\n",
    "print(\"label:\",testlabel)\n",
    "plt.imshow(testrun.reshape([28,28]))"
   ]
  },
  {
   "cell_type": "code",
   "execution_count": 38,
   "id": "angry-cemetery",
   "metadata": {},
   "outputs": [
    {
     "name": "stdout",
     "output_type": "stream",
     "text": [
      "[[0. 0. 0. 0. 0. 0. 1. 0. 0. 0.]]\n",
      "x_test[9999]预测结果: [6]\n"
     ]
    }
   ],
   "source": [
    "#判定输出结果\n",
    "pred = model.predict(testrun)\n",
    "print(pred)\n",
    "print(\"x_test[9999]预测结果:\",[final.argmax() for final in pred]) #final寻找最大元素的下标\n",
    "# print([final.argmax() for final in pred])"
   ]
  },
  {
   "cell_type": "code",
   "execution_count": 39,
   "id": "alert-filename",
   "metadata": {},
   "outputs": [
    {
     "ename": "SyntaxError",
     "evalue": "Missing parentheses in call to 'print'. Did you mean print(target_img)? (<ipython-input-39-ee426550b067>, line 10)",
     "output_type": "error",
     "traceback": [
      "\u001b[0;36m  File \u001b[0;32m\"<ipython-input-39-ee426550b067>\"\u001b[0;36m, line \u001b[0;32m10\u001b[0m\n\u001b[0;31m    print target_img\u001b[0m\n\u001b[0m          ^\u001b[0m\n\u001b[0;31mSyntaxError\u001b[0m\u001b[0;31m:\u001b[0m Missing parentheses in call to 'print'. Did you mean print(target_img)?\n"
     ]
    }
   ],
   "source": [
    "#用自己的图测试一下\n",
    "target_img = processimage.imread(\"./test0\")\n",
    "print(\"reshpe之前:\",target_img.shape)\n",
    "plt.imshow(target_img)\n",
    "target_img = target_img.reshape(1,784)\n",
    "print(\"reshpe之后:\",target_img.shape)\n",
    "target_img = np.array(target_img)\n",
    "target_img = target_img.astype(\"float32\")\n",
    "target_img = target_img/255.0\n",
    "print target_img\n",
    "\n",
    "mypred = model.predict(target_img)\n",
    "print mypred\n",
    "print([myfinal.argmax() for myfinal in mypred])"
   ]
  },
  {
   "cell_type": "code",
   "execution_count": null,
   "id": "directed-silicon",
   "metadata": {},
   "outputs": [],
   "source": []
  }
 ],
 "metadata": {
  "kernelspec": {
   "display_name": "Python 3",
   "language": "python",
   "name": "python3"
  },
  "language_info": {
   "codemirror_mode": {
    "name": "ipython",
    "version": 3
   },
   "file_extension": ".py",
   "mimetype": "text/x-python",
   "name": "python",
   "nbconvert_exporter": "python",
   "pygments_lexer": "ipython3",
   "version": "3.8.1"
  }
 },
 "nbformat": 4,
 "nbformat_minor": 5
}
